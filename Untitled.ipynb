{
 "cells": [
  {
   "cell_type": "code",
   "execution_count": 16,
   "metadata": {},
   "outputs": [],
   "source": [
    "class Fibonacci:\n",
    "    def const(this,wall):\n",
    "        this.wall = wall\n",
    "        this.golden_ratio(0,1,this.wall)\n",
    "    def golden_ratio(this,num1,num2,range):\n",
    "        if range <= 0 :\n",
    "            print(\"Enter a positive integer, are you a dumbass or something\")\n",
    "        elif range == 1:\n",
    "            print(\"Fibonacci sequence upto\",range,\":\",num1,\"you stupid mofos\")\n",
    "        else :\n",
    "            if num1 + num2 < range :\n",
    "                print(num1+num2)\n",
    "                this.golden_ratio(num2,num1+num2,range)\n",
    "            elif num1 == 0 :\n",
    "                print(num1)\n",
    "                print(num2)\n",
    "                print(num2+num1)\n",
    "                this.golden_ratio(num2,num1+num2,range)"
   ]
  },
  {
   "cell_type": "code",
   "execution_count": 17,
   "metadata": {},
   "outputs": [
    {
     "name": "stdout",
     "output_type": "stream",
     "text": [
      "Input the range of fibonacci : 1\n",
      "Fibonacci sequence upto 1 : 0 you stupid mofos\n"
     ]
    }
   ],
   "source": [
    "range = int(input(\"Input the range of fibonacci : \"))\n",
    "go = Fibonacci()\n",
    "go.const(range)"
   ]
  },
  {
   "cell_type": "code",
   "execution_count": null,
   "metadata": {},
   "outputs": [],
   "source": []
  }
 ],
 "metadata": {
  "kernelspec": {
   "display_name": "Python 3",
   "language": "python",
   "name": "python3"
  },
  "language_info": {
   "codemirror_mode": {
    "name": "ipython",
    "version": 3
   },
   "file_extension": ".py",
   "mimetype": "text/x-python",
   "name": "python",
   "nbconvert_exporter": "python",
   "pygments_lexer": "ipython3",
   "version": "3.7.4"
  }
 },
 "nbformat": 4,
 "nbformat_minor": 2
}
